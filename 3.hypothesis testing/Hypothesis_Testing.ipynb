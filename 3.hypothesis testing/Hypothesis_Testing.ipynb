{
 "cells": [
  {
   "cell_type": "markdown",
   "id": "5eaefd92",
   "metadata": {},
   "source": [
    "# Q1"
   ]
  },
  {
   "cell_type": "markdown",
   "id": "d5a87a93",
   "metadata": {},
   "source": [
    "###  A F&B manager wants to determine whether there is any significant difference in the diameter of the cutlet between two units. A randomly selected sample of cutlets was collected from both units and measured? Analyze the data and draw inferences at 5% significance level. Please state the assumptions and tests that you carried out to check validity of the assumptions."
   ]
  },
  {
   "cell_type": "code",
   "execution_count": 3,
   "id": "ed19e43a",
   "metadata": {
    "ExecuteTime": {
     "end_time": "2023-11-04T16:04:48.271570Z",
     "start_time": "2023-11-04T16:04:46.906421Z"
    }
   },
   "outputs": [],
   "source": [
    "import pandas as pd\n",
    "import numpy as np\n",
    "from scipy import stats\n",
    "from scipy.stats import norm\n"
   ]
  },
  {
   "cell_type": "code",
   "execution_count": 28,
   "id": "fea69866",
   "metadata": {
    "ExecuteTime": {
     "end_time": "2023-11-04T14:51:39.827497Z",
     "start_time": "2023-11-04T14:51:39.797921Z"
    }
   },
   "outputs": [
    {
     "data": {
      "text/html": [
       "<div>\n",
       "<style scoped>\n",
       "    .dataframe tbody tr th:only-of-type {\n",
       "        vertical-align: middle;\n",
       "    }\n",
       "\n",
       "    .dataframe tbody tr th {\n",
       "        vertical-align: top;\n",
       "    }\n",
       "\n",
       "    .dataframe thead th {\n",
       "        text-align: right;\n",
       "    }\n",
       "</style>\n",
       "<table border=\"1\" class=\"dataframe\">\n",
       "  <thead>\n",
       "    <tr style=\"text-align: right;\">\n",
       "      <th></th>\n",
       "      <th>Unit A</th>\n",
       "      <th>Unit B</th>\n",
       "    </tr>\n",
       "  </thead>\n",
       "  <tbody>\n",
       "    <tr>\n",
       "      <th>0</th>\n",
       "      <td>6.8090</td>\n",
       "      <td>6.7703</td>\n",
       "    </tr>\n",
       "    <tr>\n",
       "      <th>1</th>\n",
       "      <td>6.4376</td>\n",
       "      <td>7.5093</td>\n",
       "    </tr>\n",
       "    <tr>\n",
       "      <th>2</th>\n",
       "      <td>6.9157</td>\n",
       "      <td>6.7300</td>\n",
       "    </tr>\n",
       "    <tr>\n",
       "      <th>3</th>\n",
       "      <td>7.3012</td>\n",
       "      <td>6.7878</td>\n",
       "    </tr>\n",
       "    <tr>\n",
       "      <th>4</th>\n",
       "      <td>7.4488</td>\n",
       "      <td>7.1522</td>\n",
       "    </tr>\n",
       "  </tbody>\n",
       "</table>\n",
       "</div>"
      ],
      "text/plain": [
       "   Unit A  Unit B\n",
       "0  6.8090  6.7703\n",
       "1  6.4376  7.5093\n",
       "2  6.9157  6.7300\n",
       "3  7.3012  6.7878\n",
       "4  7.4488  7.1522"
      ]
     },
     "execution_count": 28,
     "metadata": {},
     "output_type": "execute_result"
    }
   ],
   "source": [
    "# Load the dataset\n",
    "cutlets=pd.read_csv('Cutlets.csv')\n",
    "cutlets.head()"
   ]
  },
  {
   "cell_type": "markdown",
   "id": "ac702855",
   "metadata": {},
   "source": [
    "Assume Null hyposthesis as Ho: μ1 = μ2 (There is no difference in diameters of cutlets between two units)\n",
    "Thus Alternate hypothesis as Ha: μ1 ≠ μ2 (There is significant difference in diameters of cutlets between two units)\n",
    "\n",
    "2 Sample 2 Tail test applicable"
   ]
  },
  {
   "cell_type": "code",
   "execution_count": 29,
   "id": "c4b7cd7d",
   "metadata": {
    "ExecuteTime": {
     "end_time": "2023-11-04T14:51:41.469721Z",
     "start_time": "2023-11-04T14:51:41.441386Z"
    }
   },
   "outputs": [
    {
     "data": {
      "text/html": [
       "<div>\n",
       "<style scoped>\n",
       "    .dataframe tbody tr th:only-of-type {\n",
       "        vertical-align: middle;\n",
       "    }\n",
       "\n",
       "    .dataframe tbody tr th {\n",
       "        vertical-align: top;\n",
       "    }\n",
       "\n",
       "    .dataframe thead th {\n",
       "        text-align: right;\n",
       "    }\n",
       "</style>\n",
       "<table border=\"1\" class=\"dataframe\">\n",
       "  <thead>\n",
       "    <tr style=\"text-align: right;\">\n",
       "      <th></th>\n",
       "      <th>Unit A</th>\n",
       "      <th>Unit B</th>\n",
       "    </tr>\n",
       "  </thead>\n",
       "  <tbody>\n",
       "    <tr>\n",
       "      <th>count</th>\n",
       "      <td>35.000000</td>\n",
       "      <td>35.000000</td>\n",
       "    </tr>\n",
       "    <tr>\n",
       "      <th>mean</th>\n",
       "      <td>7.019091</td>\n",
       "      <td>6.964297</td>\n",
       "    </tr>\n",
       "    <tr>\n",
       "      <th>std</th>\n",
       "      <td>0.288408</td>\n",
       "      <td>0.343401</td>\n",
       "    </tr>\n",
       "    <tr>\n",
       "      <th>min</th>\n",
       "      <td>6.437600</td>\n",
       "      <td>6.038000</td>\n",
       "    </tr>\n",
       "    <tr>\n",
       "      <th>25%</th>\n",
       "      <td>6.831500</td>\n",
       "      <td>6.753600</td>\n",
       "    </tr>\n",
       "    <tr>\n",
       "      <th>50%</th>\n",
       "      <td>6.943800</td>\n",
       "      <td>6.939900</td>\n",
       "    </tr>\n",
       "    <tr>\n",
       "      <th>75%</th>\n",
       "      <td>7.280550</td>\n",
       "      <td>7.195000</td>\n",
       "    </tr>\n",
       "    <tr>\n",
       "      <th>max</th>\n",
       "      <td>7.516900</td>\n",
       "      <td>7.545900</td>\n",
       "    </tr>\n",
       "  </tbody>\n",
       "</table>\n",
       "</div>"
      ],
      "text/plain": [
       "          Unit A     Unit B\n",
       "count  35.000000  35.000000\n",
       "mean    7.019091   6.964297\n",
       "std     0.288408   0.343401\n",
       "min     6.437600   6.038000\n",
       "25%     6.831500   6.753600\n",
       "50%     6.943800   6.939900\n",
       "75%     7.280550   7.195000\n",
       "max     7.516900   7.545900"
      ]
     },
     "execution_count": 29,
     "metadata": {},
     "output_type": "execute_result"
    }
   ],
   "source": [
    "cutlets.describe()"
   ]
  },
  {
   "cell_type": "code",
   "execution_count": 15,
   "id": "ece03272",
   "metadata": {
    "ExecuteTime": {
     "end_time": "2023-11-04T14:37:21.392263Z",
     "start_time": "2023-11-04T14:37:21.315253Z"
    }
   },
   "outputs": [
    {
     "name": "stdout",
     "output_type": "stream",
     "text": [
      "<class 'pandas.core.frame.DataFrame'>\n",
      "RangeIndex: 35 entries, 0 to 34\n",
      "Data columns (total 2 columns):\n",
      " #   Column  Non-Null Count  Dtype  \n",
      "---  ------  --------------  -----  \n",
      " 0   Unit A  35 non-null     float64\n",
      " 1   Unit B  35 non-null     float64\n",
      "dtypes: float64(2)\n",
      "memory usage: 692.0 bytes\n"
     ]
    }
   ],
   "source": [
    "cutlets.info()"
   ]
  },
  {
   "cell_type": "code",
   "execution_count": 18,
   "id": "d1488906",
   "metadata": {
    "ExecuteTime": {
     "end_time": "2023-11-04T14:41:17.188094Z",
     "start_time": "2023-11-04T14:41:17.178452Z"
    }
   },
   "outputs": [],
   "source": [
    "# 2-sample 2-tail ttest: \n",
    "s,p=stats.ttest_ind(cutlets['Unit A'],cutlets['Unit B'])\n"
   ]
  },
  {
   "cell_type": "code",
   "execution_count": 20,
   "id": "70ab5c2b",
   "metadata": {
    "ExecuteTime": {
     "end_time": "2023-11-04T14:42:28.994321Z",
     "start_time": "2023-11-04T14:42:28.981277Z"
    }
   },
   "outputs": [
    {
     "data": {
      "text/plain": [
       "0.4722394724599501"
      ]
     },
     "execution_count": 20,
     "metadata": {},
     "output_type": "execute_result"
    }
   ],
   "source": [
    "p"
   ]
  },
  {
   "cell_type": "code",
   "execution_count": 21,
   "id": "c85b2589",
   "metadata": {
    "ExecuteTime": {
     "end_time": "2023-11-04T14:42:54.673511Z",
     "start_time": "2023-11-04T14:42:54.665042Z"
    }
   },
   "outputs": [],
   "source": [
    "# compare p_value with α = 0.05 "
   ]
  },
  {
   "cell_type": "code",
   "execution_count": 22,
   "id": "ac7f8876",
   "metadata": {
    "ExecuteTime": {
     "end_time": "2023-11-04T14:44:04.616273Z",
     "start_time": "2023-11-04T14:44:04.607907Z"
    }
   },
   "outputs": [
    {
     "name": "stdout",
     "output_type": "stream",
     "text": [
      "Fail to reject Null Hypothesis. There is no difference in diameters of cutlets between two units.\n"
     ]
    }
   ],
   "source": [
    "if p < 0.05:\n",
    "    print('Reject Null Hypothesis.There is significant difference in diameters of cutlets between two units)')\n",
    "else:\n",
    "    print('Fail to reject Null Hypothesis. There is no difference in diameters of cutlets between two units.')"
   ]
  },
  {
   "cell_type": "markdown",
   "id": "9014172b",
   "metadata": {},
   "source": [
    "# Q2"
   ]
  },
  {
   "cell_type": "markdown",
   "id": "e3a6b2a6",
   "metadata": {},
   "source": [
    "A hospital wants to determine whether there is any difference in the average Turn Around Time (TAT) of reports of the laboratories on their preferred list. They collected a random sample and recorded TAT for reports of 4 laboratories. TAT is defined as sample collected to report dispatch.\n",
    "Analyze the data and determine whether there is any difference in average TAT among the different laboratories at 5% significance level."
   ]
  },
  {
   "cell_type": "code",
   "execution_count": 30,
   "id": "79840771",
   "metadata": {
    "ExecuteTime": {
     "end_time": "2023-11-04T14:51:50.259232Z",
     "start_time": "2023-11-04T14:51:50.224987Z"
    }
   },
   "outputs": [
    {
     "data": {
      "text/html": [
       "<div>\n",
       "<style scoped>\n",
       "    .dataframe tbody tr th:only-of-type {\n",
       "        vertical-align: middle;\n",
       "    }\n",
       "\n",
       "    .dataframe tbody tr th {\n",
       "        vertical-align: top;\n",
       "    }\n",
       "\n",
       "    .dataframe thead th {\n",
       "        text-align: right;\n",
       "    }\n",
       "</style>\n",
       "<table border=\"1\" class=\"dataframe\">\n",
       "  <thead>\n",
       "    <tr style=\"text-align: right;\">\n",
       "      <th></th>\n",
       "      <th>Laboratory 1</th>\n",
       "      <th>Laboratory 2</th>\n",
       "      <th>Laboratory 3</th>\n",
       "      <th>Laboratory 4</th>\n",
       "    </tr>\n",
       "  </thead>\n",
       "  <tbody>\n",
       "    <tr>\n",
       "      <th>0</th>\n",
       "      <td>185.35</td>\n",
       "      <td>165.53</td>\n",
       "      <td>176.70</td>\n",
       "      <td>166.13</td>\n",
       "    </tr>\n",
       "    <tr>\n",
       "      <th>1</th>\n",
       "      <td>170.49</td>\n",
       "      <td>185.91</td>\n",
       "      <td>198.45</td>\n",
       "      <td>160.79</td>\n",
       "    </tr>\n",
       "    <tr>\n",
       "      <th>2</th>\n",
       "      <td>192.77</td>\n",
       "      <td>194.92</td>\n",
       "      <td>201.23</td>\n",
       "      <td>185.18</td>\n",
       "    </tr>\n",
       "    <tr>\n",
       "      <th>3</th>\n",
       "      <td>177.33</td>\n",
       "      <td>183.00</td>\n",
       "      <td>199.61</td>\n",
       "      <td>176.42</td>\n",
       "    </tr>\n",
       "    <tr>\n",
       "      <th>4</th>\n",
       "      <td>193.41</td>\n",
       "      <td>169.57</td>\n",
       "      <td>204.63</td>\n",
       "      <td>152.60</td>\n",
       "    </tr>\n",
       "  </tbody>\n",
       "</table>\n",
       "</div>"
      ],
      "text/plain": [
       "   Laboratory 1  Laboratory 2  Laboratory 3  Laboratory 4\n",
       "0        185.35        165.53        176.70        166.13\n",
       "1        170.49        185.91        198.45        160.79\n",
       "2        192.77        194.92        201.23        185.18\n",
       "3        177.33        183.00        199.61        176.42\n",
       "4        193.41        169.57        204.63        152.60"
      ]
     },
     "execution_count": 30,
     "metadata": {},
     "output_type": "execute_result"
    }
   ],
   "source": [
    "# load the dataset\n",
    "labtat=pd.read_csv('LabTAT.csv')\n",
    "labtat.head()"
   ]
  },
  {
   "cell_type": "markdown",
   "id": "aa00d294",
   "metadata": {},
   "source": [
    "Anova test: Analysis of varaince between more than 2 samples or columns\n",
    "\n",
    "Assume Null Hypothesis Ho as No Varaince: All samples TAT population means are same\n",
    "Thus Alternate Hypothesis Ha as It has Variance: Atleast one sample TAT population mean is different "
   ]
  },
  {
   "cell_type": "code",
   "execution_count": 33,
   "id": "8680a7e0",
   "metadata": {
    "ExecuteTime": {
     "end_time": "2023-11-04T14:57:17.772776Z",
     "start_time": "2023-11-04T14:57:17.723874Z"
    }
   },
   "outputs": [],
   "source": [
    "f ,p = stats.f_oneway(labtat['Laboratory 1'],labtat['Laboratory 2'],labtat['Laboratory 3'],labtat['Laboratory 4'])"
   ]
  },
  {
   "cell_type": "code",
   "execution_count": 34,
   "id": "7fd47805",
   "metadata": {
    "ExecuteTime": {
     "end_time": "2023-11-04T14:57:23.314412Z",
     "start_time": "2023-11-04T14:57:23.297586Z"
    }
   },
   "outputs": [
    {
     "data": {
      "text/plain": [
       "2.1156708949992414e-57"
      ]
     },
     "execution_count": 34,
     "metadata": {},
     "output_type": "execute_result"
    }
   ],
   "source": [
    "p"
   ]
  },
  {
   "cell_type": "code",
   "execution_count": 35,
   "id": "1f643592",
   "metadata": {
    "ExecuteTime": {
     "end_time": "2023-11-04T14:57:45.354788Z",
     "start_time": "2023-11-04T14:57:45.346848Z"
    }
   },
   "outputs": [],
   "source": [
    "# compare p_value with α = 0.05 "
   ]
  },
  {
   "cell_type": "code",
   "execution_count": 36,
   "id": "f4a3c257",
   "metadata": {
    "ExecuteTime": {
     "end_time": "2023-11-04T14:59:16.376526Z",
     "start_time": "2023-11-04T14:59:16.366416Z"
    }
   },
   "outputs": [
    {
     "name": "stdout",
     "output_type": "stream",
     "text": [
      "Reject Null Hypothesis. It has Variance: Atleast one sample TAT population mean is different\n"
     ]
    }
   ],
   "source": [
    "if p < 0.05:\n",
    "    print('Reject Null Hypothesis. It has Variance: Atleast one sample TAT population mean is different')\n",
    "else:\n",
    "    print('Fail to reject Null Hypothesis.  No Varaince: All samples TAT population means are sames.')"
   ]
  },
  {
   "cell_type": "markdown",
   "id": "77c4d990",
   "metadata": {},
   "source": [
    "# Q3 "
   ]
  },
  {
   "attachments": {
    "image.png": {
     "image/png": "[encoded data removed]"
    }
   },
   "cell_type": "markdown",
   "id": "79ca7f06",
   "metadata": {},
   "source": [
    "![image.png](attachment:image.png)"
   ]
  },
  {
   "cell_type": "code",
   "execution_count": 1,
   "id": "fd018b05",
   "metadata": {
    "ExecuteTime": {
     "end_time": "2023-11-04T16:02:46.432883Z",
     "start_time": "2023-11-04T16:02:44.305370Z"
    }
   },
   "outputs": [],
   "source": [
    "from scipy.stats import chi2_contingency"
   ]
  },
  {
   "cell_type": "markdown",
   "id": "793e684f",
   "metadata": {},
   "source": [
    " Null Hypothesis,Ho: categorical variables are Independent i.e.(male-female buyer rations are similar across regions [does not vary and are not related])\n",
    "\n",
    "Alternate Hypothesis,Ha: Categorical variables are Dependent (male-female buyer rations are NOT similar across regions [does vary and somewhat/significantly related])"
   ]
  },
  {
   "cell_type": "code",
   "execution_count": 4,
   "id": "87f8f5ee",
   "metadata": {
    "ExecuteTime": {
     "end_time": "2023-11-04T16:04:51.111583Z",
     "start_time": "2023-11-04T16:04:51.038341Z"
    }
   },
   "outputs": [
    {
     "data": {
      "text/html": [
       "<div>\n",
       "<style scoped>\n",
       "    .dataframe tbody tr th:only-of-type {\n",
       "        vertical-align: middle;\n",
       "    }\n",
       "\n",
       "    .dataframe tbody tr th {\n",
       "        vertical-align: top;\n",
       "    }\n",
       "\n",
       "    .dataframe thead th {\n",
       "        text-align: right;\n",
       "    }\n",
       "</style>\n",
       "<table border=\"1\" class=\"dataframe\">\n",
       "  <thead>\n",
       "    <tr style=\"text-align: right;\">\n",
       "      <th></th>\n",
       "      <th>Observed Values</th>\n",
       "      <th>East</th>\n",
       "      <th>West</th>\n",
       "      <th>North</th>\n",
       "      <th>South</th>\n",
       "    </tr>\n",
       "  </thead>\n",
       "  <tbody>\n",
       "    <tr>\n",
       "      <th>0</th>\n",
       "      <td>Males</td>\n",
       "      <td>50</td>\n",
       "      <td>142</td>\n",
       "      <td>131</td>\n",
       "      <td>70</td>\n",
       "    </tr>\n",
       "    <tr>\n",
       "      <th>1</th>\n",
       "      <td>Females</td>\n",
       "      <td>435</td>\n",
       "      <td>1523</td>\n",
       "      <td>1356</td>\n",
       "      <td>750</td>\n",
       "    </tr>\n",
       "  </tbody>\n",
       "</table>\n",
       "</div>"
      ],
      "text/plain": [
       "  Observed Values  East  West  North  South\n",
       "0           Males    50   142    131     70\n",
       "1         Females   435  1523   1356    750"
      ]
     },
     "execution_count": 4,
     "metadata": {},
     "output_type": "execute_result"
    }
   ],
   "source": [
    "# load the dataset\n",
    "br=pd.read_csv('BuyerRatio.csv')\n",
    "br"
   ]
  },
  {
   "cell_type": "code",
   "execution_count": 9,
   "id": "778b8069",
   "metadata": {
    "ExecuteTime": {
     "end_time": "2023-11-04T16:18:18.364983Z",
     "start_time": "2023-11-04T16:18:18.352179Z"
    }
   },
   "outputs": [
    {
     "data": {
      "text/plain": [
       "array([[  50,  142,  131,   70],\n",
       "       [ 435, 1523, 1356,  750]])"
      ]
     },
     "execution_count": 9,
     "metadata": {},
     "output_type": "execute_result"
    }
   ],
   "source": [
    "# Make dimensional array\n",
    "obs=np.array([[50,142,131,70],[435,1523,1356,750]])\n",
    "obs"
   ]
  },
  {
   "cell_type": "code",
   "execution_count": 11,
   "id": "a693894e",
   "metadata": {
    "ExecuteTime": {
     "end_time": "2023-11-04T16:18:49.409917Z",
     "start_time": "2023-11-04T16:18:49.402375Z"
    }
   },
   "outputs": [],
   "source": [
    "# Chi2 contengency independence test\n",
    "chi2,p,df,exp  = chi2_contingency(obs)"
   ]
  },
  {
   "cell_type": "code",
   "execution_count": 26,
   "id": "817a2dcd",
   "metadata": {
    "ExecuteTime": {
     "end_time": "2023-11-04T16:29:42.511564Z",
     "start_time": "2023-11-04T16:29:42.502541Z"
    }
   },
   "outputs": [
    {
     "name": "stdout",
     "output_type": "stream",
     "text": [
      "p_value =  0.2771020991233135\n",
      "Expected values =  [[271.75 271.75 271.75 271.75]\n",
      " [ 28.25  28.25  28.25  28.25]]\n"
     ]
    }
   ],
   "source": [
    "print('p_value = ',p)\n",
    "print('Expected values = ',exp)"
   ]
  },
  {
   "cell_type": "code",
   "execution_count": 27,
   "id": "44114c62",
   "metadata": {
    "ExecuteTime": {
     "end_time": "2023-11-04T16:29:43.038542Z",
     "start_time": "2023-11-04T16:29:43.028027Z"
    }
   },
   "outputs": [
    {
     "name": "stdout",
     "output_type": "stream",
     "text": [
      "Fail to reject null hypothesis.categorical variables are Independent i.e.(male-female buyer rations are similar across regions [does not vary and are not related])\n"
     ]
    }
   ],
   "source": [
    "if p < 0.05:\n",
    "    print('Reject Null Hypothesis.Categorical variables are Dependent (male-female buyer rations are NOT similar across regions [does vary and somewhat/significantly related])')\n",
    "else:\n",
    "    print('Fail to reject null hypothesis.categorical variables are Independent i.e.(male-female buyer rations are similar across regions [does not vary and are not related])')"
   ]
  },
  {
   "cell_type": "markdown",
   "id": "93454e5b",
   "metadata": {},
   "source": [
    "# Q4 "
   ]
  },
  {
   "cell_type": "markdown",
   "id": "62885b14",
   "metadata": {},
   "source": [
    "TeleCall uses 4 centers around the globe to process customer order forms. They audit a certain %  of the customer order forms. Any error in order form renders it defective and has to be reworked before processing.  The manager wants to check whether the defective %  varies by centre. Please analyze the data at 5% significance level and help the manager draw appropriate inferences"
   ]
  },
  {
   "cell_type": "code",
   "execution_count": 14,
   "id": "c8294ff6",
   "metadata": {
    "ExecuteTime": {
     "end_time": "2023-11-04T16:24:20.932346Z",
     "start_time": "2023-11-04T16:24:20.825288Z"
    }
   },
   "outputs": [
    {
     "data": {
      "text/html": [
       "<div>\n",
       "<style scoped>\n",
       "    .dataframe tbody tr th:only-of-type {\n",
       "        vertical-align: middle;\n",
       "    }\n",
       "\n",
       "    .dataframe tbody tr th {\n",
       "        vertical-align: top;\n",
       "    }\n",
       "\n",
       "    .dataframe thead th {\n",
       "        text-align: right;\n",
       "    }\n",
       "</style>\n",
       "<table border=\"1\" class=\"dataframe\">\n",
       "  <thead>\n",
       "    <tr style=\"text-align: right;\">\n",
       "      <th></th>\n",
       "      <th>Phillippines</th>\n",
       "      <th>Indonesia</th>\n",
       "      <th>Malta</th>\n",
       "      <th>India</th>\n",
       "    </tr>\n",
       "  </thead>\n",
       "  <tbody>\n",
       "    <tr>\n",
       "      <th>0</th>\n",
       "      <td>Error Free</td>\n",
       "      <td>Error Free</td>\n",
       "      <td>Defective</td>\n",
       "      <td>Error Free</td>\n",
       "    </tr>\n",
       "    <tr>\n",
       "      <th>1</th>\n",
       "      <td>Error Free</td>\n",
       "      <td>Error Free</td>\n",
       "      <td>Error Free</td>\n",
       "      <td>Defective</td>\n",
       "    </tr>\n",
       "    <tr>\n",
       "      <th>2</th>\n",
       "      <td>Error Free</td>\n",
       "      <td>Defective</td>\n",
       "      <td>Defective</td>\n",
       "      <td>Error Free</td>\n",
       "    </tr>\n",
       "    <tr>\n",
       "      <th>3</th>\n",
       "      <td>Error Free</td>\n",
       "      <td>Error Free</td>\n",
       "      <td>Error Free</td>\n",
       "      <td>Error Free</td>\n",
       "    </tr>\n",
       "    <tr>\n",
       "      <th>4</th>\n",
       "      <td>Error Free</td>\n",
       "      <td>Error Free</td>\n",
       "      <td>Defective</td>\n",
       "      <td>Error Free</td>\n",
       "    </tr>\n",
       "    <tr>\n",
       "      <th>...</th>\n",
       "      <td>...</td>\n",
       "      <td>...</td>\n",
       "      <td>...</td>\n",
       "      <td>...</td>\n",
       "    </tr>\n",
       "    <tr>\n",
       "      <th>295</th>\n",
       "      <td>Error Free</td>\n",
       "      <td>Error Free</td>\n",
       "      <td>Error Free</td>\n",
       "      <td>Error Free</td>\n",
       "    </tr>\n",
       "    <tr>\n",
       "      <th>296</th>\n",
       "      <td>Error Free</td>\n",
       "      <td>Error Free</td>\n",
       "      <td>Error Free</td>\n",
       "      <td>Error Free</td>\n",
       "    </tr>\n",
       "    <tr>\n",
       "      <th>297</th>\n",
       "      <td>Error Free</td>\n",
       "      <td>Error Free</td>\n",
       "      <td>Defective</td>\n",
       "      <td>Error Free</td>\n",
       "    </tr>\n",
       "    <tr>\n",
       "      <th>298</th>\n",
       "      <td>Error Free</td>\n",
       "      <td>Error Free</td>\n",
       "      <td>Error Free</td>\n",
       "      <td>Error Free</td>\n",
       "    </tr>\n",
       "    <tr>\n",
       "      <th>299</th>\n",
       "      <td>Error Free</td>\n",
       "      <td>Defective</td>\n",
       "      <td>Defective</td>\n",
       "      <td>Error Free</td>\n",
       "    </tr>\n",
       "  </tbody>\n",
       "</table>\n",
       "<p>300 rows × 4 columns</p>\n",
       "</div>"
      ],
      "text/plain": [
       "    Phillippines   Indonesia       Malta       India\n",
       "0     Error Free  Error Free   Defective  Error Free\n",
       "1     Error Free  Error Free  Error Free   Defective\n",
       "2     Error Free   Defective   Defective  Error Free\n",
       "3     Error Free  Error Free  Error Free  Error Free\n",
       "4     Error Free  Error Free   Defective  Error Free\n",
       "..           ...         ...         ...         ...\n",
       "295   Error Free  Error Free  Error Free  Error Free\n",
       "296   Error Free  Error Free  Error Free  Error Free\n",
       "297   Error Free  Error Free   Defective  Error Free\n",
       "298   Error Free  Error Free  Error Free  Error Free\n",
       "299   Error Free   Defective   Defective  Error Free\n",
       "\n",
       "[300 rows x 4 columns]"
      ]
     },
     "execution_count": 14,
     "metadata": {},
     "output_type": "execute_result"
    }
   ],
   "source": [
    "# load the dataset\n",
    "co=pd.read_csv('Costomer+OrderForm.csv')\n",
    "co"
   ]
  },
  {
   "cell_type": "code",
   "execution_count": 15,
   "id": "71533270",
   "metadata": {
    "ExecuteTime": {
     "end_time": "2023-11-04T16:24:40.975894Z",
     "start_time": "2023-11-04T16:24:40.916130Z"
    }
   },
   "outputs": [
    {
     "data": {
      "text/plain": [
       "Error Free    271\n",
       "Defective      29\n",
       "Name: Phillippines, dtype: int64"
      ]
     },
     "execution_count": 15,
     "metadata": {},
     "output_type": "execute_result"
    }
   ],
   "source": [
    "co.Phillippines.value_counts()"
   ]
  },
  {
   "cell_type": "code",
   "execution_count": 16,
   "id": "f9826d38",
   "metadata": {
    "ExecuteTime": {
     "end_time": "2023-11-04T16:24:52.715434Z",
     "start_time": "2023-11-04T16:24:52.699283Z"
    }
   },
   "outputs": [
    {
     "data": {
      "text/plain": [
       "Error Free    267\n",
       "Defective      33\n",
       "Name: Indonesia, dtype: int64"
      ]
     },
     "execution_count": 16,
     "metadata": {},
     "output_type": "execute_result"
    }
   ],
   "source": [
    "co.Indonesia.value_counts()"
   ]
  },
  {
   "cell_type": "code",
   "execution_count": 17,
   "id": "94114778",
   "metadata": {
    "ExecuteTime": {
     "end_time": "2023-11-04T16:25:04.092970Z",
     "start_time": "2023-11-04T16:25:04.076617Z"
    }
   },
   "outputs": [
    {
     "data": {
      "text/plain": [
       "Error Free    269\n",
       "Defective      31\n",
       "Name: Malta, dtype: int64"
      ]
     },
     "execution_count": 17,
     "metadata": {},
     "output_type": "execute_result"
    }
   ],
   "source": [
    "co.Malta.value_counts()"
   ]
  },
  {
   "cell_type": "code",
   "execution_count": 18,
   "id": "cb1f00dc",
   "metadata": {
    "ExecuteTime": {
     "end_time": "2023-11-04T16:25:18.966532Z",
     "start_time": "2023-11-04T16:25:18.952653Z"
    }
   },
   "outputs": [
    {
     "data": {
      "text/plain": [
       "Error Free    280\n",
       "Defective      20\n",
       "Name: India, dtype: int64"
      ]
     },
     "execution_count": 18,
     "metadata": {},
     "output_type": "execute_result"
    }
   ],
   "source": [
    "co.India.value_counts()"
   ]
  },
  {
   "cell_type": "code",
   "execution_count": 19,
   "id": "f6133ea1",
   "metadata": {
    "ExecuteTime": {
     "end_time": "2023-11-04T16:25:31.054263Z",
     "start_time": "2023-11-04T16:25:31.041952Z"
    }
   },
   "outputs": [
    {
     "data": {
      "text/plain": [
       "array([[271, 267, 269, 280],\n",
       "       [ 29,  33,  31,  20]])"
      ]
     },
     "execution_count": 19,
     "metadata": {},
     "output_type": "execute_result"
    }
   ],
   "source": [
    "# Make a contingency table\n",
    "obs=np.array([[271,267,269,280],[29,33,31,20]])\n",
    "obs"
   ]
  },
  {
   "cell_type": "markdown",
   "id": "d05a5a9d",
   "metadata": {},
   "source": [
    "Null Hypothesis, Ho: \n",
    "categorical variables are Independent (customer order forms defective %  does not varies by centre)\n",
    "\n",
    "Alternative hypothesis, Ha\n",
    "categorical variables are Dependent (customer order forms defective %  varies by centre)"
   ]
  },
  {
   "cell_type": "code",
   "execution_count": 20,
   "id": "1e35dc9d",
   "metadata": {
    "ExecuteTime": {
     "end_time": "2023-11-04T16:26:39.301975Z",
     "start_time": "2023-11-04T16:26:39.252628Z"
    }
   },
   "outputs": [],
   "source": [
    "# Chi2 contengency independence test\n",
    "chi2,p,df,exp  = chi2_contingency(obs)"
   ]
  },
  {
   "cell_type": "code",
   "execution_count": 24,
   "id": "8ad50785",
   "metadata": {
    "ExecuteTime": {
     "end_time": "2023-11-04T16:29:35.979657Z",
     "start_time": "2023-11-04T16:29:35.964464Z"
    }
   },
   "outputs": [
    {
     "name": "stdout",
     "output_type": "stream",
     "text": [
      "p_value =  0.2771020991233135\n",
      "Expected values =  [[271.75 271.75 271.75 271.75]\n",
      " [ 28.25  28.25  28.25  28.25]]\n"
     ]
    }
   ],
   "source": [
    "print('p_value = ',p)\n",
    "print('Expected values = ',exp)"
   ]
  },
  {
   "cell_type": "code",
   "execution_count": 25,
   "id": "95213e60",
   "metadata": {
    "ExecuteTime": {
     "end_time": "2023-11-04T16:29:37.341814Z",
     "start_time": "2023-11-04T16:29:37.332443Z"
    }
   },
   "outputs": [
    {
     "name": "stdout",
     "output_type": "stream",
     "text": [
      "Fail to reject null hypothesis.categorical variables are Independent (customer order forms defective % does not varies by centre).\n"
     ]
    }
   ],
   "source": [
    "if p < 0.05:\n",
    "    print('Reject Null Hypothesis. categorical variables are Dependent (customer order forms defective % varies by centre).')\n",
    "else:\n",
    "    print('Fail to reject null hypothesis.categorical variables are Independent (customer order forms defective % does not varies by centre).')"
   ]
  },
  {
   "cell_type": "code",
   "execution_count": null,
   "id": "4d4c4e5b",
   "metadata": {},
   "outputs": [],
   "source": []
  }
 ],
 "metadata": {
  "kernelspec": {
   "display_name": "Python 3 (ipykernel)",
   "language": "python",
   "name": "python3"
  },
  "language_info": {
   "codemirror_mode": {
    "name": "ipython",
    "version": 3
   },
   "file_extension": ".py",
   "mimetype": "text/x-python",
   "name": "python",
   "nbconvert_exporter": "python",
   "pygments_lexer": "ipython3",
   "version": "3.11.4"
  }
 },
 "nbformat": 4,
 "nbformat_minor": 5
}
