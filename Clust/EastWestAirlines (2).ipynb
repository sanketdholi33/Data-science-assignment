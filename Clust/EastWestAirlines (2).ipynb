#!/usr/bin/env python
# coding: utf-8

# # Assignment-07-Clustering-Hierarchical (Airlines)
# 

# In[1]:


# Import Libraries
import pandas as pd
import numpy as np
import matplotlib.pyplot as plt
import seaborn as sns
import scipy.cluster.hierarchy as sch
from sklearn.cluster import AgglomerativeClustering
from sklearn.preprocessing import normalize
import warnings
warnings.filterwarnings('ignore')
get_ipython().run_line_magic('matplotlib', 'inline')
plt.rcParams['figure.figsize'] = (10,5)
plt.rcParams['figure.dpi'] = 250
sns.set_style('darkgrid')
from sklearn.cluster import KMeans
from sklearn.preprocessing import StandardScaler
from sklearn import preprocessing
from sklearn.cluster import DBSCAN


# In[2]:


# Import Dataset
airline=pd.read_csv('EastWestAirlines.csv')
airline


# In[3]:


airline.info()


# In[4]:


airline2=airline.drop(['ID#'],axis=1)
airline2


# In[5]:


# Normalize heterogenous numerical data 
airline2_norm=pd.DataFrame(normalize(airline2),columns=airline2.columns)
airline2_norm


# In[6]:


# Create herarkical clustering(Dendrograms)
dendograms=sch.dendrogram(sch.linkage(airline2_norm,'complete'))
plt.axhline(y = 1 , c = 'red', linestyle = '--')


# In[7]:


unique_colors=set(dendograms['color_list'])


# In[8]:


optimal_clusters=len(unique_colors)-1
optimal_clusters


# In[9]:


# Create Clusters (y)
hclusters=AgglomerativeClustering(n_clusters=5,affinity='euclidean',linkage='ward')
hclusters


# In[10]:


y=pd.DataFrame(hclusters.fit_predict(airline2_norm),columns=['clustersid'])
y['clustersid'].value_counts()


# In[11]:


8

# In[12]:


airline2.groupby('clustersid').agg(['mean']).reset_index()


# In[13]:


# Plot Clusters  
plt.scatter(airline2['clustersid'],airline2['Balance'], c=hclusters.labels_,cmap='rainbow') 


# In[14]:


# k-means algorithm
kmeans = KMeans(n_clusters = 3, init = 'k-means++', random_state = 42)
k_means = kmeans.fit_predict(airline2_norm)


# In[15]:


k_means


# In[16]:


k_means1=k_means+1
k_cluster = list(k_means1)


# In[17]:


airline2['k_cluster'] = k_cluster


# In[18]:


kmeans_mean_cluster = pd.DataFrame(round(airline2.groupby('k_cluster').mean(),1))


# In[19]:


kmeans_mean_cluster


# In[20]:


pd.DataFrame(round(airline2.groupby('k_cluster').count(),1))


# In[21]:


X = airline2_norm.values


# In[22]:


plt.scatter(X[:, 0], X[:, 1], c=k_means, s=50, cmap='viridis')


# In[23]:


# DBSCAN Clustering
db=DBSCAN(eps=1,min_samples=4)
y=db.fit_predict(airline2)


# In[24]:


db.labels_


# In[25]:


# Adding clusters to dataset
airline2['clusters']=db.labels_
airline2


# In[26]:


airline2.groupby('clusters').agg(['mean']).reset_index()


# In[31]:


# Plot Clusters 
plt.scatter(airline2['clusters'],airline2['Flight_miles_12mo'], c=db.labels_,cmap='rainbow') 


# In[32]:


from sklearn.metrics import silhouette_score


# In[37]:


silhouette_score


# In[ ]:




