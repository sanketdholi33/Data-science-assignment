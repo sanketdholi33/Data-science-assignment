{
 "cells": [
  {
   "cell_type": "markdown",
   "id": "9d732328",
   "metadata": {},
   "source": [
    "## Library and Data imports "
   ]
  },
  {
   "cell_type": "code",
   "execution_count": 1,
   "id": "41d18ea6",
   "metadata": {},
   "outputs": [],
   "source": [
    "import numpy as np\n",
    "import pandas as pd\n",
    "import matplotlib.pyplot as plt\n",
    "import seaborn as sns\n",
    "from datetime import datetime\n",
    "from statsmodels.tsa.stattools import adfuller\n",
    "from statsmodels.graphics.tsaplots import plot_acf,plot_pacf\n",
    "from pmdarima import auto_arima\n",
    "from statsmodels.tsa.arima.model import ARIMA\n",
    "from statsmodels.tsa.holtwinters import ExponentialSmoothing\n",
    "from statsmodels.tsa.statespace.sarimax import SARIMAX\n",
    "from sklearn.metrics import mean_squared_error\n",
    "from math import sqrt\n",
    "import warnings\n",
    "warnings.filterwarnings('ignore')"
   ]
  },
  {
   "cell_type": "code",
   "execution_count": 2,
   "id": "37cd9fac",
   "metadata": {
    "scrolled": true
   },
   "outputs": [
    {
     "data": {
      "text/html": [
       "<div>\n",
       "<style scoped>\n",
       "    .dataframe tbody tr th:only-of-type {\n",
       "        vertical-align: middle;\n",
       "    }\n",
       "\n",
       "    .dataframe tbody tr th {\n",
       "        vertical-align: top;\n",
       "    }\n",
       "\n",
       "    .dataframe thead th {\n",
       "        text-align: right;\n",
       "    }\n",
       "</style>\n",
       "<table border=\"1\" class=\"dataframe\">\n",
       "  <thead>\n",
       "    <tr style=\"text-align: right;\">\n",
       "      <th></th>\n",
       "      <th>price</th>\n",
       "    </tr>\n",
       "    <tr>\n",
       "      <th>date</th>\n",
       "      <th></th>\n",
       "    </tr>\n",
       "  </thead>\n",
       "  <tbody>\n",
       "    <tr>\n",
       "      <th>2016-01-01</th>\n",
       "      <td>2252.60</td>\n",
       "    </tr>\n",
       "    <tr>\n",
       "      <th>2016-01-02</th>\n",
       "      <td>2454.50</td>\n",
       "    </tr>\n",
       "    <tr>\n",
       "      <th>2016-01-03</th>\n",
       "      <td>2708.10</td>\n",
       "    </tr>\n",
       "    <tr>\n",
       "      <th>2016-01-04</th>\n",
       "      <td>2577.80</td>\n",
       "    </tr>\n",
       "    <tr>\n",
       "      <th>2016-01-05</th>\n",
       "      <td>2597.75</td>\n",
       "    </tr>\n",
       "  </tbody>\n",
       "</table>\n",
       "</div>"
      ],
      "text/plain": [
       "              price\n",
       "date               \n",
       "2016-01-01  2252.60\n",
       "2016-01-02  2454.50\n",
       "2016-01-03  2708.10\n",
       "2016-01-04  2577.80\n",
       "2016-01-05  2597.75"
      ]
     },
     "execution_count": 2,
     "metadata": {},
     "output_type": "execute_result"
    }
   ],
   "source": [
    "raw_df = pd.read_csv(r\"C:\\radha\\GitHub\\Gold-Price-Prediction\\Gold_data_Excel.csv\",parse_dates = ['date'],index_col='date')\n",
    "raw_df.head()"
   ]
  },
  {
   "cell_type": "code",
   "execution_count": 3,
   "id": "9107c901",
   "metadata": {},
   "outputs": [
    {
     "data": {
      "text/html": [
       "<div>\n",
       "<style scoped>\n",
       "    .dataframe tbody tr th:only-of-type {\n",
       "        vertical-align: middle;\n",
       "    }\n",
       "\n",
       "    .dataframe tbody tr th {\n",
       "        vertical-align: top;\n",
       "    }\n",
       "\n",
       "    .dataframe thead th {\n",
       "        text-align: right;\n",
       "    }\n",
       "</style>\n",
       "<table border=\"1\" class=\"dataframe\">\n",
       "  <thead>\n",
       "    <tr style=\"text-align: right;\">\n",
       "      <th></th>\n",
       "      <th>price</th>\n",
       "    </tr>\n",
       "    <tr>\n",
       "      <th>date</th>\n",
       "      <th></th>\n",
       "    </tr>\n",
       "  </thead>\n",
       "  <tbody>\n",
       "    <tr>\n",
       "      <th>2021-12-17</th>\n",
       "      <td>4394.4</td>\n",
       "    </tr>\n",
       "    <tr>\n",
       "      <th>2021-12-18</th>\n",
       "      <td>4389.5</td>\n",
       "    </tr>\n",
       "    <tr>\n",
       "      <th>2021-12-19</th>\n",
       "      <td>4389.5</td>\n",
       "    </tr>\n",
       "    <tr>\n",
       "      <th>2021-12-20</th>\n",
       "      <td>4354.1</td>\n",
       "    </tr>\n",
       "    <tr>\n",
       "      <th>2021-12-21</th>\n",
       "      <td>4346.5</td>\n",
       "    </tr>\n",
       "  </tbody>\n",
       "</table>\n",
       "</div>"
      ],
      "text/plain": [
       "             price\n",
       "date              \n",
       "2021-12-17  4394.4\n",
       "2021-12-18  4389.5\n",
       "2021-12-19  4389.5\n",
       "2021-12-20  4354.1\n",
       "2021-12-21  4346.5"
      ]
     },
     "execution_count": 3,
     "metadata": {},
     "output_type": "execute_result"
    }
   ],
   "source": [
    "raw_df.tail()"
   ]
  },
  {
   "cell_type": "markdown",
   "id": "468fa2b4",
   "metadata": {},
   "source": [
    "### ACF and PCF plot monthly mean\n",
    "+ Only the monthly plot is considered the model prepration because there is so much monthly mean appears to be most smoothened as compared to the weekly mean"
   ]
  },
  {
   "cell_type": "code",
   "execution_count": 4,
   "id": "93d2d01f",
   "metadata": {},
   "outputs": [
    {
     "data": {
      "text/html": [
       "<div>\n",
       "<style scoped>\n",
       "    .dataframe tbody tr th:only-of-type {\n",
       "        vertical-align: middle;\n",
       "    }\n",
       "\n",
       "    .dataframe tbody tr th {\n",
       "        vertical-align: top;\n",
       "    }\n",
       "\n",
       "    .dataframe thead th {\n",
       "        text-align: right;\n",
       "    }\n",
       "</style>\n",
       "<table border=\"1\" class=\"dataframe\">\n",
       "  <thead>\n",
       "    <tr style=\"text-align: right;\">\n",
       "      <th></th>\n",
       "      <th>price</th>\n",
       "    </tr>\n",
       "    <tr>\n",
       "      <th>date</th>\n",
       "      <th></th>\n",
       "    </tr>\n",
       "  </thead>\n",
       "  <tbody>\n",
       "    <tr>\n",
       "      <th>2016-01-31</th>\n",
       "      <td>2495.832258</td>\n",
       "    </tr>\n",
       "    <tr>\n",
       "      <th>2016-02-29</th>\n",
       "      <td>2688.703448</td>\n",
       "    </tr>\n",
       "    <tr>\n",
       "      <th>2016-03-31</th>\n",
       "      <td>2682.854839</td>\n",
       "    </tr>\n",
       "    <tr>\n",
       "      <th>2016-04-30</th>\n",
       "      <td>2677.790000</td>\n",
       "    </tr>\n",
       "    <tr>\n",
       "      <th>2016-05-31</th>\n",
       "      <td>2677.650000</td>\n",
       "    </tr>\n",
       "  </tbody>\n",
       "</table>\n",
       "</div>"
      ],
      "text/plain": [
       "                  price\n",
       "date                   \n",
       "2016-01-31  2495.832258\n",
       "2016-02-29  2688.703448\n",
       "2016-03-31  2682.854839\n",
       "2016-04-30  2677.790000\n",
       "2016-05-31  2677.650000"
      ]
     },
     "execution_count": 4,
     "metadata": {},
     "output_type": "execute_result"
    }
   ],
   "source": [
    "monthly_mean_df = raw_df.resample('M').mean()\n",
    "monthly_mean_df.head()"
   ]
  },
  {
   "cell_type": "code",
   "execution_count": 5,
   "id": "f077a6f3",
   "metadata": {},
   "outputs": [
    {
     "data": {
      "image/png": "[encoded data removed]",
      "text/plain": [
       "<Figure size 640x480 with 1 Axes>"
      ]
     },
     "metadata": {},
     "output_type": "display_data"
    },
    {
     "data": {
      "image/png": "[encoded data removed]",
      "text/plain": [
       "<Figure size 640x480 with 1 Axes>"
      ]
     },
     "metadata": {},
     "output_type": "display_data"
    }
   ],
   "source": [
    "monthly_acf = plot_acf(monthly_mean_df)\n",
    "monthly_pacf = plot_pacf(monthly_mean_df)"
   ]
  },
  {
   "cell_type": "markdown",
   "id": "977c7165",
   "metadata": {},
   "source": [
    "### Parameters for 30 day mean ARIMA \n",
    "+ calculated using the auto_arima function which comares the models w.r.t AIC values and returns the order which is having least AIC value"
   ]
  },
  {
   "cell_type": "code",
   "execution_count": 6,
   "id": "19dbe5b8",
   "metadata": {},
   "outputs": [
    {
     "name": "stdout",
     "output_type": "stream",
     "text": [
      "Performing stepwise search to minimize aic\n",
      " ARIMA(2,1,2)(0,0,0)[0] intercept   : AIC=853.440, Time=0.30 sec\n",
      " ARIMA(0,1,0)(0,0,0)[0] intercept   : AIC=850.923, Time=0.01 sec\n",
      " ARIMA(1,1,0)(0,0,0)[0] intercept   : AIC=852.235, Time=0.05 sec\n",
      " ARIMA(0,1,1)(0,0,0)[0] intercept   : AIC=852.021, Time=0.05 sec\n",
      " ARIMA(0,1,0)(0,0,0)[0]             : AIC=853.980, Time=0.02 sec\n",
      " ARIMA(1,1,1)(0,0,0)[0] intercept   : AIC=849.580, Time=0.09 sec\n",
      " ARIMA(2,1,1)(0,0,0)[0] intercept   : AIC=851.210, Time=0.12 sec\n",
      " ARIMA(1,1,2)(0,0,0)[0] intercept   : AIC=851.300, Time=0.11 sec\n",
      " ARIMA(0,1,2)(0,0,0)[0] intercept   : AIC=852.254, Time=0.07 sec\n",
      " ARIMA(2,1,0)(0,0,0)[0] intercept   : AIC=853.570, Time=0.09 sec\n",
      " ARIMA(1,1,1)(0,0,0)[0]             : AIC=851.888, Time=0.03 sec\n",
      "\n",
      "Best model:  ARIMA(1,1,1)(0,0,0)[0] intercept\n",
      "Total fit time: 0.948 seconds\n"
     ]
    },
    {
     "data": {
      "text/html": [
       "<table class=\"simpletable\">\n",
       "<caption>SARIMAX Results</caption>\n",
       "<tr>\n",
       "  <th>Dep. Variable:</th>           <td>y</td>        <th>  No. Observations:  </th>    <td>72</td>   \n",
       "</tr>\n",
       "<tr>\n",
       "  <th>Model:</th>           <td>SARIMAX(1, 1, 1)</td> <th>  Log Likelihood     </th> <td>-420.790</td>\n",
       "</tr>\n",
       "<tr>\n",
       "  <th>Date:</th>            <td>Thu, 28 Mar 2024</td> <th>  AIC                </th>  <td>849.580</td>\n",
       "</tr>\n",
       "<tr>\n",
       "  <th>Time:</th>                <td>21:52:00</td>     <th>  BIC                </th>  <td>858.631</td>\n",
       "</tr>\n",
       "<tr>\n",
       "  <th>Sample:</th>             <td>01-31-2016</td>    <th>  HQIC               </th>  <td>853.179</td>\n",
       "</tr>\n",
       "<tr>\n",
       "  <th></th>                   <td>- 12-31-2021</td>   <th>                     </th>     <td> </td>   \n",
       "</tr>\n",
       "<tr>\n",
       "  <th>Covariance Type:</th>        <td>opg</td>       <th>                     </th>     <td> </td>   \n",
       "</tr>\n",
       "</table>\n",
       "<table class=\"simpletable\">\n",
       "<tr>\n",
       "      <td></td>         <th>coef</th>     <th>std err</th>      <th>z</th>      <th>P>|z|</th>  <th>[0.025</th>    <th>0.975]</th>  \n",
       "</tr>\n",
       "<tr>\n",
       "  <th>intercept</th> <td>   42.4441</td> <td>   28.868</td> <td>    1.470</td> <td> 0.141</td> <td>  -14.137</td> <td>   99.025</td>\n",
       "</tr>\n",
       "<tr>\n",
       "  <th>ar.L1</th>     <td>   -0.6404</td> <td>    0.249</td> <td>   -2.577</td> <td> 0.010</td> <td>   -1.128</td> <td>   -0.153</td>\n",
       "</tr>\n",
       "<tr>\n",
       "  <th>ma.L1</th>     <td>    0.8600</td> <td>    0.148</td> <td>    5.814</td> <td> 0.000</td> <td>    0.570</td> <td>    1.150</td>\n",
       "</tr>\n",
       "<tr>\n",
       "  <th>sigma2</th>    <td> 8217.4221</td> <td> 1229.943</td> <td>    6.681</td> <td> 0.000</td> <td> 5806.779</td> <td> 1.06e+04</td>\n",
       "</tr>\n",
       "</table>\n",
       "<table class=\"simpletable\">\n",
       "<tr>\n",
       "  <th>Ljung-Box (L1) (Q):</th>     <td>0.21</td> <th>  Jarque-Bera (JB):  </th> <td>151.03</td>\n",
       "</tr>\n",
       "<tr>\n",
       "  <th>Prob(Q):</th>                <td>0.65</td> <th>  Prob(JB):          </th>  <td>0.00</td> \n",
       "</tr>\n",
       "<tr>\n",
       "  <th>Heteroskedasticity (H):</th> <td>3.89</td> <th>  Skew:              </th>  <td>1.88</td> \n",
       "</tr>\n",
       "<tr>\n",
       "  <th>Prob(H) (two-sided):</th>    <td>0.00</td> <th>  Kurtosis:          </th>  <td>9.07</td> \n",
       "</tr>\n",
       "</table><br/><br/>Warnings:<br/>[1] Covariance matrix calculated using the outer product of gradients (complex-step)."
      ],
      "text/plain": [
       "<class 'statsmodels.iolib.summary.Summary'>\n",
       "\"\"\"\n",
       "                               SARIMAX Results                                \n",
       "==============================================================================\n",
       "Dep. Variable:                      y   No. Observations:                   72\n",
       "Model:               SARIMAX(1, 1, 1)   Log Likelihood                -420.790\n",
       "Date:                Thu, 28 Mar 2024   AIC                            849.580\n",
       "Time:                        21:52:00   BIC                            858.631\n",
       "Sample:                    01-31-2016   HQIC                           853.179\n",
       "                         - 12-31-2021                                         \n",
       "Covariance Type:                  opg                                         \n",
       "==============================================================================\n",
       "                 coef    std err          z      P>|z|      [0.025      0.975]\n",
       "------------------------------------------------------------------------------\n",
       "intercept     42.4441     28.868      1.470      0.141     -14.137      99.025\n",
       "ar.L1         -0.6404      0.249     -2.577      0.010      -1.128      -0.153\n",
       "ma.L1          0.8600      0.148      5.814      0.000       0.570       1.150\n",
       "sigma2      8217.4221   1229.943      6.681      0.000    5806.779    1.06e+04\n",
       "===================================================================================\n",
       "Ljung-Box (L1) (Q):                   0.21   Jarque-Bera (JB):               151.03\n",
       "Prob(Q):                              0.65   Prob(JB):                         0.00\n",
       "Heteroskedasticity (H):               3.89   Skew:                             1.88\n",
       "Prob(H) (two-sided):                  0.00   Kurtosis:                         9.07\n",
       "===================================================================================\n",
       "\n",
       "Warnings:\n",
       "[1] Covariance matrix calculated using the outer product of gradients (complex-step).\n",
       "\"\"\""
      ]
     },
     "execution_count": 6,
     "metadata": {},
     "output_type": "execute_result"
    }
   ],
   "source": [
    "step_wise_fit_monthly_mean = auto_arima(monthly_mean_df,trace=True,suppress_warnings=True)\n",
    "step_wise_fit_monthly_mean.summary()"
   ]
  },
  {
   "cell_type": "markdown",
   "id": "f41f0859",
   "metadata": {},
   "source": [
    "## Train Test Data sepration"
   ]
  },
  {
   "cell_type": "markdown",
   "id": "0d9f9042",
   "metadata": {},
   "source": [
    "## Monthly mean"
   ]
  },
  {
   "cell_type": "code",
   "execution_count": 7,
   "id": "661b2b4d",
   "metadata": {},
   "outputs": [
    {
     "data": {
      "text/plain": [
       "(72, 1)"
      ]
     },
     "execution_count": 7,
     "metadata": {},
     "output_type": "execute_result"
    }
   ],
   "source": [
    "monthly_mean_df.shape"
   ]
  },
  {
   "cell_type": "code",
   "execution_count": 8,
   "id": "655e9507",
   "metadata": {},
   "outputs": [],
   "source": [
    "train_monthly_mean = monthly_mean_df.iloc[:-12]\n",
    "test_monthly_mean = monthly_mean_df.iloc[-12:]"
   ]
  },
  {
   "cell_type": "code",
   "execution_count": 9,
   "id": "19af196b",
   "metadata": {},
   "outputs": [
    {
     "name": "stdout",
     "output_type": "stream",
     "text": [
      "Shape of training Data is :- (60, 1),\n",
      "Shape of testing Data is :- (12, 1)\n"
     ]
    }
   ],
   "source": [
    "print(f\"Shape of training Data is :- {train_monthly_mean.shape},\\nShape of testing Data is :- {test_monthly_mean.shape}\")"
   ]
  },
  {
   "cell_type": "markdown",
   "id": "3c71d733",
   "metadata": {},
   "source": [
    "## Model Fitting"
   ]
  },
  {
   "cell_type": "markdown",
   "id": "d36fd658",
   "metadata": {},
   "source": [
    "## 1. ARIMA model"
   ]
  },
  {
   "cell_type": "code",
   "execution_count": 10,
   "id": "649920c2",
   "metadata": {},
   "outputs": [
    {
     "data": {
      "text/html": [
       "<table class=\"simpletable\">\n",
       "<caption>SARIMAX Results</caption>\n",
       "<tr>\n",
       "  <th>Dep. Variable:</th>         <td>price</td>      <th>  No. Observations:  </th>    <td>60</td>   \n",
       "</tr>\n",
       "<tr>\n",
       "  <th>Model:</th>            <td>ARIMA(1, 1, 1)</td>  <th>  Log Likelihood     </th> <td>-354.159</td>\n",
       "</tr>\n",
       "<tr>\n",
       "  <th>Date:</th>            <td>Thu, 28 Mar 2024</td> <th>  AIC                </th>  <td>714.318</td>\n",
       "</tr>\n",
       "<tr>\n",
       "  <th>Time:</th>                <td>21:52:00</td>     <th>  BIC                </th>  <td>720.551</td>\n",
       "</tr>\n",
       "<tr>\n",
       "  <th>Sample:</th>             <td>01-31-2016</td>    <th>  HQIC               </th>  <td>716.751</td>\n",
       "</tr>\n",
       "<tr>\n",
       "  <th></th>                   <td>- 12-31-2020</td>   <th>                     </th>     <td> </td>   \n",
       "</tr>\n",
       "<tr>\n",
       "  <th>Covariance Type:</th>        <td>opg</td>       <th>                     </th>     <td> </td>   \n",
       "</tr>\n",
       "</table>\n",
       "<table class=\"simpletable\">\n",
       "<tr>\n",
       "     <td></td>       <th>coef</th>     <th>std err</th>      <th>z</th>      <th>P>|z|</th>  <th>[0.025</th>    <th>0.975]</th>  \n",
       "</tr>\n",
       "<tr>\n",
       "  <th>ar.L1</th>  <td>    0.9380</td> <td>    0.191</td> <td>    4.905</td> <td> 0.000</td> <td>    0.563</td> <td>    1.313</td>\n",
       "</tr>\n",
       "<tr>\n",
       "  <th>ma.L1</th>  <td>   -0.8452</td> <td>    0.306</td> <td>   -2.763</td> <td> 0.006</td> <td>   -1.445</td> <td>   -0.246</td>\n",
       "</tr>\n",
       "<tr>\n",
       "  <th>sigma2</th> <td> 9558.2562</td> <td>  997.935</td> <td>    9.578</td> <td> 0.000</td> <td> 7602.340</td> <td> 1.15e+04</td>\n",
       "</tr>\n",
       "</table>\n",
       "<table class=\"simpletable\">\n",
       "<tr>\n",
       "  <th>Ljung-Box (L1) (Q):</th>     <td>0.00</td> <th>  Jarque-Bera (JB):  </th> <td>214.27</td>\n",
       "</tr>\n",
       "<tr>\n",
       "  <th>Prob(Q):</th>                <td>0.98</td> <th>  Prob(JB):          </th>  <td>0.00</td> \n",
       "</tr>\n",
       "<tr>\n",
       "  <th>Heteroskedasticity (H):</th> <td>5.44</td> <th>  Skew:              </th>  <td>2.26</td> \n",
       "</tr>\n",
       "<tr>\n",
       "  <th>Prob(H) (two-sided):</th>    <td>0.00</td> <th>  Kurtosis:          </th>  <td>11.16</td>\n",
       "</tr>\n",
       "</table><br/><br/>Warnings:<br/>[1] Covariance matrix calculated using the outer product of gradients (complex-step)."
      ],
      "text/plain": [
       "<class 'statsmodels.iolib.summary.Summary'>\n",
       "\"\"\"\n",
       "                               SARIMAX Results                                \n",
       "==============================================================================\n",
       "Dep. Variable:                  price   No. Observations:                   60\n",
       "Model:                 ARIMA(1, 1, 1)   Log Likelihood                -354.159\n",
       "Date:                Thu, 28 Mar 2024   AIC                            714.318\n",
       "Time:                        21:52:00   BIC                            720.551\n",
       "Sample:                    01-31-2016   HQIC                           716.751\n",
       "                         - 12-31-2020                                         \n",
       "Covariance Type:                  opg                                         \n",
       "==============================================================================\n",
       "                 coef    std err          z      P>|z|      [0.025      0.975]\n",
       "------------------------------------------------------------------------------\n",
       "ar.L1          0.9380      0.191      4.905      0.000       0.563       1.313\n",
       "ma.L1         -0.8452      0.306     -2.763      0.006      -1.445      -0.246\n",
       "sigma2      9558.2562    997.935      9.578      0.000    7602.340    1.15e+04\n",
       "===================================================================================\n",
       "Ljung-Box (L1) (Q):                   0.00   Jarque-Bera (JB):               214.27\n",
       "Prob(Q):                              0.98   Prob(JB):                         0.00\n",
       "Heteroskedasticity (H):               5.44   Skew:                             2.26\n",
       "Prob(H) (two-sided):                  0.00   Kurtosis:                        11.16\n",
       "===================================================================================\n",
       "\n",
       "Warnings:\n",
       "[1] Covariance matrix calculated using the outer product of gradients (complex-step).\n",
       "\"\"\""
      ]
     },
     "execution_count": 10,
     "metadata": {},
     "output_type": "execute_result"
    }
   ],
   "source": [
    "monthly_mean_model = ARIMA(train_monthly_mean['price'],order=(1,1,1))\n",
    "monthly_mean_model = monthly_mean_model.fit()\n",
    "monthly_mean_model.summary()"
   ]
  },
  {
   "cell_type": "markdown",
   "id": "54fd94c6",
   "metadata": {},
   "source": [
    "## ARIMA Monthly mean prediction"
   ]
  },
  {
   "cell_type": "code",
   "execution_count": 11,
   "id": "52a04203",
   "metadata": {},
   "outputs": [
    {
     "data": {
      "text/plain": [
       "2021-01-31    4351.448330\n",
       "2021-02-28    4370.453380\n",
       "2021-03-31    4388.280129\n",
       "2021-04-30    4405.001631\n",
       "2021-05-31    4420.686411\n",
       "2021-06-30    4435.398745\n",
       "2021-07-31    4449.198924\n",
       "2021-08-31    4462.143500\n",
       "2021-09-30    4474.285522\n",
       "2021-10-31    4485.674745\n",
       "2021-11-30    4496.357845\n",
       "2021-12-31    4506.378599\n",
       "Freq: M, Name: predicted_mean, dtype: float64"
      ]
     },
     "execution_count": 11,
     "metadata": {},
     "output_type": "execute_result"
    }
   ],
   "source": [
    "start = len(train_monthly_mean)\n",
    "end = start+ len(test_monthly_mean)-1\n",
    "pred = monthly_mean_model.predict(start=start,end=end,type='levels')\n",
    "pred"
   ]
  },
  {
   "cell_type": "markdown",
   "id": "89af4aee",
   "metadata": {},
   "source": [
    "## Prediction Plots"
   ]
  },
  {
   "cell_type": "code",
   "execution_count": 12,
   "id": "5fd4d8a2",
   "metadata": {},
   "outputs": [
    {
     "data": {
      "image/png": "[encoded data removed]",
      "text/plain": [
       "<Figure size 800x300 with 1 Axes>"
      ]
     },
     "metadata": {},
     "output_type": "display_data"
    }
   ],
   "source": [
    "# Plot the original data and forecast\n",
    "plt.figure(figsize=(8, 3))\n",
    "plt.plot(monthly_mean_df['price'], label='Original Data')\n",
    "plt.plot(pred, label='Forecast test', color='red')\n",
    "plt.title('ARIMA Forecast for monthly mean')\n",
    "plt.xlabel('Time')\n",
    "plt.ylabel('Price')\n",
    "plt.legend()\n",
    "plt.show()"
   ]
  },
  {
   "cell_type": "markdown",
   "id": "60123762",
   "metadata": {},
   "source": [
    "## Error Calculation"
   ]
  },
  {
   "cell_type": "code",
   "execution_count": 13,
   "id": "10aafe99",
   "metadata": {
    "scrolled": true
   },
   "outputs": [
    {
     "name": "stdout",
     "output_type": "stream",
     "text": [
      "180.7706347055716\n"
     ]
    }
   ],
   "source": [
    "rmse = sqrt(mean_squared_error(test_monthly_mean,pred))\n",
    "print(rmse)"
   ]
  },
  {
   "cell_type": "code",
   "execution_count": 14,
   "id": "710ae1d8",
   "metadata": {
    "scrolled": true
   },
   "outputs": [
    {
     "data": {
      "text/plain": [
       "price    4267.608846\n",
       "dtype: float64"
      ]
     },
     "execution_count": 14,
     "metadata": {},
     "output_type": "execute_result"
    }
   ],
   "source": [
    "test_monthly_mean.mean()"
   ]
  },
  {
   "cell_type": "code",
   "execution_count": 15,
   "id": "6e7b6abd",
   "metadata": {},
   "outputs": [
    {
     "name": "stdout",
     "output_type": "stream",
     "text": [
      "Percentage prediction error is 95.76 %\n"
     ]
    }
   ],
   "source": [
    "Accuracy  = 100 - rmse*100/test_monthly_mean.mean()\n",
    "print(f\"Percentage prediction error is {round(Accuracy[0],2)} %\")"
   ]
  },
  {
   "cell_type": "markdown",
   "id": "58a9868e",
   "metadata": {},
   "source": [
    "## Build ARMA model "
   ]
  },
  {
   "cell_type": "code",
   "execution_count": 16,
   "id": "d726a331",
   "metadata": {},
   "outputs": [],
   "source": [
    "# Define the ARMA parameters\n",
    "order = (3, 0, 1)  # (p, d=0, q)\n",
    "\n",
    "# Fit the ARMA model\n",
    "arma_model = ARIMA(train_monthly_mean['price'], order=order)\n",
    "arma_model = arma_model.fit()"
   ]
  },
  {
   "cell_type": "markdown",
   "id": "4d6848cd",
   "metadata": {},
   "source": [
    "## Predit for ARMA model"
   ]
  },
  {
   "cell_type": "code",
   "execution_count": 17,
   "id": "f806b5f8",
   "metadata": {},
   "outputs": [
    {
     "data": {
      "text/plain": [
       "2021-01-31    4368.690390\n",
       "2021-02-28    4328.552578\n",
       "2021-03-31    4338.234689\n",
       "2021-04-30    4314.554672\n",
       "2021-05-31    4313.391635\n",
       "2021-06-30    4297.266394\n",
       "2021-07-31    4291.317229\n",
       "2021-08-31    4278.681367\n",
       "2021-09-30    4270.668438\n",
       "2021-10-31    4259.691314\n",
       "2021-11-30    4250.837963\n",
       "2021-12-31    4240.694485\n",
       "Freq: M, Name: predicted_mean, dtype: float64"
      ]
     },
     "execution_count": 17,
     "metadata": {},
     "output_type": "execute_result"
    }
   ],
   "source": [
    "start = len(train_monthly_mean)\n",
    "end = start+ len(test_monthly_mean)-1\n",
    "pred_arma = arma_model.predict(start=start,end=end,type='levels')\n",
    "pred_arma"
   ]
  },
  {
   "cell_type": "markdown",
   "id": "41cef5eb",
   "metadata": {},
   "source": [
    "## Error calculation for ARMA model"
   ]
  },
  {
   "cell_type": "code",
   "execution_count": 18,
   "id": "a2ea3e36",
   "metadata": {},
   "outputs": [
    {
     "name": "stdout",
     "output_type": "stream",
     "text": [
      "85.88230393104789\n"
     ]
    }
   ],
   "source": [
    "rmse_arma = sqrt(mean_squared_error(test_monthly_mean,pred_arma))\n",
    "print(rmse_arma)"
   ]
  },
  {
   "cell_type": "code",
   "execution_count": 19,
   "id": "6f40e536",
   "metadata": {},
   "outputs": [
    {
     "name": "stdout",
     "output_type": "stream",
     "text": [
      "Percentage prediction Accuraxy is 97.99 %\n"
     ]
    }
   ],
   "source": [
    "Accuracy  = 100 - rmse_arma*100/test_monthly_mean.mean()\n",
    "print(f\"Percentage prediction Accuraxy is {round(Accuracy[0],2)} %\")"
   ]
  },
  {
   "cell_type": "markdown",
   "id": "e83492d3",
   "metadata": {},
   "source": [
    "### Prediction plots"
   ]
  },
  {
   "cell_type": "code",
   "execution_count": 20,
   "id": "525eeac9",
   "metadata": {},
   "outputs": [
    {
     "data": {
      "image/png": "[encoded data removed]",
      "text/plain": [
       "<Figure size 1000x600 with 1 Axes>"
      ]
     },
     "metadata": {},
     "output_type": "display_data"
    }
   ],
   "source": [
    "# Plot the original data and forecast\n",
    "plt.figure(figsize=(10, 6))\n",
    "plt.plot(monthly_mean_df['price'], label='Original Data')\n",
    "plt.plot(pred_arma, label='Forecast test', color='red')\n",
    "plt.title('ARMA Forecast')\n",
    "plt.xlabel('Time')\n",
    "plt.ylabel('Price')\n",
    "plt.legend()\n",
    "plt.show()"
   ]
  },
  {
   "cell_type": "markdown",
   "id": "75c860f9",
   "metadata": {},
   "source": [
    "## Srimax model"
   ]
  },
  {
   "cell_type": "code",
   "execution_count": 21,
   "id": "a73773c8",
   "metadata": {},
   "outputs": [],
   "source": [
    "# ARIMA parameters\n",
    "order = (1, 1, 1)  # (p, d, q)\n",
    "seasonal_order = (1,2,1,4)  # (P, D, Q, m)"
   ]
  },
  {
   "cell_type": "code",
   "execution_count": 22,
   "id": "4f290ea7",
   "metadata": {},
   "outputs": [],
   "source": [
    "# Fit the seasonal ARIMA model\n",
    "sarimax_model = SARIMAX(train_monthly_mean['price'], order=order, seasonal_order=seasonal_order)\n",
    "sarimax_model = sarimax_model.fit()"
   ]
  },
  {
   "cell_type": "code",
   "execution_count": 23,
   "id": "ac785160",
   "metadata": {},
   "outputs": [
    {
     "data": {
      "text/plain": [
       "2021-01-31    4277.735230\n",
       "2021-02-28    4274.341227\n",
       "2021-03-31    4291.879183\n",
       "2021-04-30    4349.310139\n",
       "2021-05-31    4268.922608\n",
       "2021-06-30    4246.524070\n",
       "2021-07-31    4221.740565\n",
       "2021-08-31    4266.681955\n",
       "2021-09-30    4188.047604\n",
       "2021-10-31    4158.026250\n",
       "2021-11-30    4149.877559\n",
       "2021-12-31    4204.686913\n",
       "Freq: M, Name: predicted_mean, dtype: float64"
      ]
     },
     "execution_count": 23,
     "metadata": {},
     "output_type": "execute_result"
    }
   ],
   "source": [
    "start = len(train_monthly_mean)\n",
    "end = start+len(test_monthly_mean)-1\n",
    "pred_sarima = sarimax_model.predict(start = start, end = end,type='levels')\n",
    "pred_sarima"
   ]
  },
  {
   "cell_type": "markdown",
   "id": "8cd330fc",
   "metadata": {},
   "source": [
    "## Error Calculation for SARIMA model"
   ]
  },
  {
   "cell_type": "code",
   "execution_count": 24,
   "id": "f6c26cc7",
   "metadata": {},
   "outputs": [
    {
     "name": "stdout",
     "output_type": "stream",
     "text": [
      "99.14104400751705\n"
     ]
    }
   ],
   "source": [
    "rmse = sqrt(mean_squared_error(test_monthly_mean,pred_sarima))\n",
    "print(rmse)"
   ]
  },
  {
   "cell_type": "code",
   "execution_count": 25,
   "id": "828d7537",
   "metadata": {},
   "outputs": [
    {
     "name": "stdout",
     "output_type": "stream",
     "text": [
      "Percentage prediction Accuracy is 97.68 %\n"
     ]
    }
   ],
   "source": [
    "Accuracy  = 100 - rmse*100/test_monthly_mean.mean()\n",
    "print(f\"Percentage prediction Accuracy is {round(Accuracy[0],2)} %\")"
   ]
  },
  {
   "cell_type": "markdown",
   "id": "cbd2599d",
   "metadata": {},
   "source": [
    "## Prediction plot for SARIMAX model"
   ]
  },
  {
   "cell_type": "code",
   "execution_count": 26,
   "id": "da0eb314",
   "metadata": {},
   "outputs": [
    {
     "data": {
      "image/png": "[encoded data removed]",
      "text/plain": [
       "<Figure size 800x300 with 1 Axes>"
      ]
     },
     "metadata": {},
     "output_type": "display_data"
    }
   ],
   "source": [
    "# Plot the original data and forecast\n",
    "plt.figure(figsize=(8, 3))\n",
    "plt.plot(monthly_mean_df['price'], label='Original Data')\n",
    "plt.plot(pred_sarima, label='Forecast test', color='red')\n",
    "plt.title('SARIMAX Forecast for monthly mean')\n",
    "plt.xlabel('Time')\n",
    "plt.ylabel('Price')\n",
    "plt.legend()\n",
    "plt.show()"
   ]
  },
  {
   "cell_type": "code",
   "execution_count": 27,
   "id": "ce921b6f",
   "metadata": {},
   "outputs": [
    {
     "data": {
      "text/html": [
       "<table class=\"simpletable\">\n",
       "<caption>SARIMAX Results</caption>\n",
       "<tr>\n",
       "  <th>Dep. Variable:</th>               <td>price</td>             <th>  No. Observations:  </th>    <td>60</td>   \n",
       "</tr>\n",
       "<tr>\n",
       "  <th>Model:</th>           <td>SARIMAX(1, 1, 1)x(1, 2, 1, 4)</td> <th>  Log Likelihood     </th> <td>-326.359</td>\n",
       "</tr>\n",
       "<tr>\n",
       "  <th>Date:</th>                  <td>Thu, 28 Mar 2024</td>        <th>  AIC                </th>  <td>662.717</td>\n",
       "</tr>\n",
       "<tr>\n",
       "  <th>Time:</th>                      <td>21:52:02</td>            <th>  BIC                </th>  <td>672.376</td>\n",
       "</tr>\n",
       "<tr>\n",
       "  <th>Sample:</th>                   <td>01-31-2016</td>           <th>  HQIC               </th>  <td>666.408</td>\n",
       "</tr>\n",
       "<tr>\n",
       "  <th></th>                         <td>- 12-31-2020</td>          <th>                     </th>     <td> </td>   \n",
       "</tr>\n",
       "<tr>\n",
       "  <th>Covariance Type:</th>              <td>opg</td>              <th>                     </th>     <td> </td>   \n",
       "</tr>\n",
       "</table>\n",
       "<table class=\"simpletable\">\n",
       "<tr>\n",
       "     <td></td>        <th>coef</th>     <th>std err</th>      <th>z</th>      <th>P>|z|</th>  <th>[0.025</th>    <th>0.975]</th>  \n",
       "</tr>\n",
       "<tr>\n",
       "  <th>ar.L1</th>   <td>    0.9983</td> <td>   81.834</td> <td>    0.012</td> <td> 0.990</td> <td> -159.394</td> <td>  161.390</td>\n",
       "</tr>\n",
       "<tr>\n",
       "  <th>ma.L1</th>   <td>   -0.9962</td> <td>   38.483</td> <td>   -0.026</td> <td> 0.979</td> <td>  -76.422</td> <td>   74.429</td>\n",
       "</tr>\n",
       "<tr>\n",
       "  <th>ar.S.L4</th> <td>   -0.4343</td> <td>    0.217</td> <td>   -1.998</td> <td> 0.046</td> <td>   -0.860</td> <td>   -0.008</td>\n",
       "</tr>\n",
       "<tr>\n",
       "  <th>ma.S.L4</th> <td>   -0.9973</td> <td>   31.802</td> <td>   -0.031</td> <td> 0.975</td> <td>  -63.329</td> <td>   61.334</td>\n",
       "</tr>\n",
       "<tr>\n",
       "  <th>sigma2</th>  <td> 1.627e+04</td> <td> 3.74e+05</td> <td>    0.043</td> <td> 0.965</td> <td>-7.17e+05</td> <td> 7.49e+05</td>\n",
       "</tr>\n",
       "</table>\n",
       "<table class=\"simpletable\">\n",
       "<tr>\n",
       "  <th>Ljung-Box (L1) (Q):</th>     <td>0.13</td> <th>  Jarque-Bera (JB):  </th> <td>31.37</td>\n",
       "</tr>\n",
       "<tr>\n",
       "  <th>Prob(Q):</th>                <td>0.72</td> <th>  Prob(JB):          </th> <td>0.00</td> \n",
       "</tr>\n",
       "<tr>\n",
       "  <th>Heteroskedasticity (H):</th> <td>5.89</td> <th>  Skew:              </th> <td>0.63</td> \n",
       "</tr>\n",
       "<tr>\n",
       "  <th>Prob(H) (two-sided):</th>    <td>0.00</td> <th>  Kurtosis:          </th> <td>6.63</td> \n",
       "</tr>\n",
       "</table><br/><br/>Warnings:<br/>[1] Covariance matrix calculated using the outer product of gradients (complex-step)."
      ],
      "text/plain": [
       "<class 'statsmodels.iolib.summary.Summary'>\n",
       "\"\"\"\n",
       "                                     SARIMAX Results                                     \n",
       "=========================================================================================\n",
       "Dep. Variable:                             price   No. Observations:                   60\n",
       "Model:             SARIMAX(1, 1, 1)x(1, 2, 1, 4)   Log Likelihood                -326.359\n",
       "Date:                           Thu, 28 Mar 2024   AIC                            662.717\n",
       "Time:                                   21:52:02   BIC                            672.376\n",
       "Sample:                               01-31-2016   HQIC                           666.408\n",
       "                                    - 12-31-2020                                         \n",
       "Covariance Type:                             opg                                         \n",
       "==============================================================================\n",
       "                 coef    std err          z      P>|z|      [0.025      0.975]\n",
       "------------------------------------------------------------------------------\n",
       "ar.L1          0.9983     81.834      0.012      0.990    -159.394     161.390\n",
       "ma.L1         -0.9962     38.483     -0.026      0.979     -76.422      74.429\n",
       "ar.S.L4       -0.4343      0.217     -1.998      0.046      -0.860      -0.008\n",
       "ma.S.L4       -0.9973     31.802     -0.031      0.975     -63.329      61.334\n",
       "sigma2      1.627e+04   3.74e+05      0.043      0.965   -7.17e+05    7.49e+05\n",
       "===================================================================================\n",
       "Ljung-Box (L1) (Q):                   0.13   Jarque-Bera (JB):                31.37\n",
       "Prob(Q):                              0.72   Prob(JB):                         0.00\n",
       "Heteroskedasticity (H):               5.89   Skew:                             0.63\n",
       "Prob(H) (two-sided):                  0.00   Kurtosis:                         6.63\n",
       "===================================================================================\n",
       "\n",
       "Warnings:\n",
       "[1] Covariance matrix calculated using the outer product of gradients (complex-step).\n",
       "\"\"\""
      ]
     },
     "execution_count": 27,
     "metadata": {},
     "output_type": "execute_result"
    }
   ],
   "source": [
    "sarimax_model.summary()"
   ]
  },
  {
   "cell_type": "markdown",
   "id": "73f93ee5",
   "metadata": {},
   "source": [
    "### Final Model Preparation :- "
   ]
  },
  {
   "cell_type": "code",
   "execution_count": 28,
   "id": "a88daf0e",
   "metadata": {},
   "outputs": [],
   "source": [
    "# Define the SARIMA parameters\n",
    "order = (1, 1, 1)  # (p, d, q)\n",
    "seasonal_order = (0, 1, [],20)  # (P, D, Q, m)"
   ]
  },
  {
   "cell_type": "code",
   "execution_count": 29,
   "id": "2ec5e491",
   "metadata": {},
   "outputs": [
    {
     "data": {
      "text/html": [
       "<table class=\"simpletable\">\n",
       "<caption>SARIMAX Results</caption>\n",
       "<tr>\n",
       "  <th>Dep. Variable:</th>                <td>price</td>              <th>  No. Observations:  </th>    <td>72</td>   \n",
       "</tr>\n",
       "<tr>\n",
       "  <th>Model:</th>           <td>SARIMAX(1, 1, 1)x(0, 1, [], 20)</td> <th>  Log Likelihood     </th> <td>-327.247</td>\n",
       "</tr>\n",
       "<tr>\n",
       "  <th>Date:</th>                   <td>Thu, 28 Mar 2024</td>         <th>  AIC                </th>  <td>660.494</td>\n",
       "</tr>\n",
       "<tr>\n",
       "  <th>Time:</th>                       <td>21:52:02</td>             <th>  BIC                </th>  <td>666.289</td>\n",
       "</tr>\n",
       "<tr>\n",
       "  <th>Sample:</th>                    <td>01-31-2016</td>            <th>  HQIC               </th>  <td>662.708</td>\n",
       "</tr>\n",
       "<tr>\n",
       "  <th></th>                          <td>- 12-31-2021</td>           <th>                     </th>     <td> </td>   \n",
       "</tr>\n",
       "<tr>\n",
       "  <th>Covariance Type:</th>               <td>opg</td>               <th>                     </th>     <td> </td>   \n",
       "</tr>\n",
       "</table>\n",
       "<table class=\"simpletable\">\n",
       "<tr>\n",
       "     <td></td>       <th>coef</th>     <th>std err</th>      <th>z</th>      <th>P>|z|</th>  <th>[0.025</th>    <th>0.975]</th>  \n",
       "</tr>\n",
       "<tr>\n",
       "  <th>ar.L1</th>  <td>   -0.6332</td> <td>    0.196</td> <td>   -3.239</td> <td> 0.001</td> <td>   -1.016</td> <td>   -0.250</td>\n",
       "</tr>\n",
       "<tr>\n",
       "  <th>ma.L1</th>  <td>    0.9050</td> <td>    0.102</td> <td>    8.853</td> <td> 0.000</td> <td>    0.705</td> <td>    1.105</td>\n",
       "</tr>\n",
       "<tr>\n",
       "  <th>sigma2</th> <td> 2.182e+04</td> <td> 4414.484</td> <td>    4.943</td> <td> 0.000</td> <td> 1.32e+04</td> <td> 3.05e+04</td>\n",
       "</tr>\n",
       "</table>\n",
       "<table class=\"simpletable\">\n",
       "<tr>\n",
       "  <th>Ljung-Box (L1) (Q):</th>     <td>0.22</td> <th>  Jarque-Bera (JB):  </th> <td>8.15</td> \n",
       "</tr>\n",
       "<tr>\n",
       "  <th>Prob(Q):</th>                <td>0.64</td> <th>  Prob(JB):          </th> <td>0.02</td> \n",
       "</tr>\n",
       "<tr>\n",
       "  <th>Heteroskedasticity (H):</th> <td>3.94</td> <th>  Skew:              </th> <td>-0.33</td>\n",
       "</tr>\n",
       "<tr>\n",
       "  <th>Prob(H) (two-sided):</th>    <td>0.01</td> <th>  Kurtosis:          </th> <td>4.84</td> \n",
       "</tr>\n",
       "</table><br/><br/>Warnings:<br/>[1] Covariance matrix calculated using the outer product of gradients (complex-step)."
      ],
      "text/plain": [
       "<class 'statsmodels.iolib.summary.Summary'>\n",
       "\"\"\"\n",
       "                                      SARIMAX Results                                      \n",
       "===========================================================================================\n",
       "Dep. Variable:                               price   No. Observations:                   72\n",
       "Model:             SARIMAX(1, 1, 1)x(0, 1, [], 20)   Log Likelihood                -327.247\n",
       "Date:                             Thu, 28 Mar 2024   AIC                            660.494\n",
       "Time:                                     21:52:02   BIC                            666.289\n",
       "Sample:                                 01-31-2016   HQIC                           662.708\n",
       "                                      - 12-31-2021                                         \n",
       "Covariance Type:                               opg                                         \n",
       "==============================================================================\n",
       "                 coef    std err          z      P>|z|      [0.025      0.975]\n",
       "------------------------------------------------------------------------------\n",
       "ar.L1         -0.6332      0.196     -3.239      0.001      -1.016      -0.250\n",
       "ma.L1          0.9050      0.102      8.853      0.000       0.705       1.105\n",
       "sigma2      2.182e+04   4414.484      4.943      0.000    1.32e+04    3.05e+04\n",
       "===================================================================================\n",
       "Ljung-Box (L1) (Q):                   0.22   Jarque-Bera (JB):                 8.15\n",
       "Prob(Q):                              0.64   Prob(JB):                         0.02\n",
       "Heteroskedasticity (H):               3.94   Skew:                            -0.33\n",
       "Prob(H) (two-sided):                  0.01   Kurtosis:                         4.84\n",
       "===================================================================================\n",
       "\n",
       "Warnings:\n",
       "[1] Covariance matrix calculated using the outer product of gradients (complex-step).\n",
       "\"\"\""
      ]
     },
     "execution_count": 29,
     "metadata": {},
     "output_type": "execute_result"
    }
   ],
   "source": [
    "final_sarima_model = SARIMAX(monthly_mean_df['price'],order=order, seasonal_order=seasonal_order)\n",
    "final_sarima_model = final_sarima_model.fit() # Specify covariance type as 'robust'\n",
    "final_sarima_model.summary()"
   ]
  },
  {
   "cell_type": "code",
   "execution_count": 30,
   "id": "31ab6e02",
   "metadata": {},
   "outputs": [
    {
     "name": "stdout",
     "output_type": "stream",
     "text": [
      "2022-01-31    4307.342437\n",
      "2022-02-28    4366.235461\n",
      "2022-03-31    4499.169592\n",
      "2022-04-30    4603.718625\n",
      "2022-05-31    4506.990813\n",
      "2022-06-30    4499.019364\n",
      "2022-07-31    4421.454418\n",
      "2022-08-31    4440.944709\n",
      "2022-09-30    4414.300425\n",
      "2022-10-31    4318.366566\n",
      "2022-11-30    4227.510151\n",
      "2022-12-31    4368.688256\n",
      "Freq: M, Name: predicted_mean, dtype: float64\n"
     ]
    }
   ],
   "source": [
    "start = len(monthly_mean_df)\n",
    "end = start+ len(test_monthly_mean)-1\n",
    "predictions = final_sarima_model.predict(start=start,end=end,type='levels')\n",
    "print(predictions)"
   ]
  },
  {
   "cell_type": "code",
   "execution_count": 31,
   "id": "736703c7",
   "metadata": {},
   "outputs": [
    {
     "data": {
      "image/png": "[encoded data removed]",
      "text/plain": [
       "<Figure size 1000x600 with 1 Axes>"
      ]
     },
     "metadata": {},
     "output_type": "display_data"
    }
   ],
   "source": [
    "# Plot the original data and forecast\n",
    "plt.figure(figsize=(10, 6))\n",
    "plt.plot(monthly_mean_df['price'], label='Original Data')\n",
    "plt.plot(predictions, label='Forecast', color='red')\n",
    "plt.title('SARIMAX Forecast')\n",
    "plt.xlabel('Time')\n",
    "plt.ylabel('Price')\n",
    "plt.legend()\n",
    "plt.show()"
   ]
  },
  {
   "cell_type": "markdown",
   "id": "82d39917",
   "metadata": {},
   "source": [
    "## Deploy the model"
   ]
  },
  {
   "cell_type": "code",
   "execution_count": 32,
   "id": "866ed1d7",
   "metadata": {},
   "outputs": [],
   "source": [
    "from pickle import dump"
   ]
  },
  {
   "cell_type": "code",
   "execution_count": 35,
   "id": "a421bbb7",
   "metadata": {},
   "outputs": [],
   "source": [
    "dump(final_sarima_model, open('pred.pkl','wb'))"
   ]
  }
 ],
 "metadata": {
  "kernelspec": {
   "display_name": "Python 3 (ipykernel)",
   "language": "python",
   "name": "python3"
  },
  "language_info": {
   "codemirror_mode": {
    "name": "ipython",
    "version": 3
   },
   "file_extension": ".py",
   "mimetype": "text/x-python",
   "name": "python",
   "nbconvert_exporter": "python",
   "pygments_lexer": "ipython3",
   "version": "3.11.3"
  }
 },
 "nbformat": 4,
 "nbformat_minor": 5
}
